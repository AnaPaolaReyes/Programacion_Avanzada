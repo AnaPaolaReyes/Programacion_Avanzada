{
  "nbformat": 4,
  "nbformat_minor": 0,
  "metadata": {
    "colab": {
      "provenance": [],
      "authorship_tag": "ABX9TyPGJE+luwJE8VreufNHNzf6",
      "include_colab_link": true
    },
    "kernelspec": {
      "name": "python3",
      "display_name": "Python 3"
    },
    "language_info": {
      "name": "python"
    }
  },
  "cells": [
    {
      "cell_type": "markdown",
      "metadata": {
        "id": "view-in-github",
        "colab_type": "text"
      },
      "source": [
        "<a href=\"https://colab.research.google.com/github/AnaPaolaReyes/Programacion_Avanzada/blob/main/Cafeter%C3%ADa.ipynb\" target=\"_parent\"><img src=\"https://colab.research.google.com/assets/colab-badge.svg\" alt=\"Open In Colab\"/></a>"
      ]
    },
    {
      "cell_type": "code",
      "execution_count": 67,
      "metadata": {
        "id": "h1BEFJDvywSl"
      },
      "outputs": [],
      "source": [
        "class Persona:\n",
        "    lista=[]\n",
        "    def __init__(self, nombre, correo):\n",
        "          self.nombre = nombre\n",
        "          self.correo = correo\n",
        "          self.lista=[]\n",
        "\n",
        "    def cliente(self):\n",
        "          Persona.lista.append(self)\n",
        "          print(f\"El cliente {self.nombre} ha sido registrado con el correo {self.correo}\")"
      ]
    },
    {
      "cell_type": "code",
      "source": [
        "class Empleado(Persona):\n",
        "    def __init__(self, nombre, correo, rol):\n",
        "        super().__init__(nombre, correo)\n",
        "        self.rol = rol\n"
      ],
      "metadata": {
        "id": "UVy5fYWgNA5A"
      },
      "execution_count": 68,
      "outputs": []
    },
    {
      "cell_type": "code",
      "source": [
        "class ProductoBase:\n",
        "    def __init__(self, nombre, precio):\n",
        "        self.nombre = nombre\n",
        "        self.precio = precio"
      ],
      "metadata": {
        "id": "9i9FXpMQNBou"
      },
      "execution_count": 69,
      "outputs": []
    },
    {
      "cell_type": "code",
      "source": [
        "class Bebida(ProductoBase):\n",
        "    def __init__(self, nombre, precio, tamaño, tipo, opciones):\n",
        "        super().__init__(nombre, precio)\n",
        "        self.tamaño = tamaño\n",
        "        self.tipo = tipo\n",
        "        self.opciones = opciones\n",
        "\n",
        "    def descripcion_bebida(self):\n",
        "        print(f\"Orden: {self.nombre}, con un precio de {self.precio}, tamaño:{self.tamaño}, tipo:{self.tipo}, opciones adicionales:{self.opciones}\")"
      ],
      "metadata": {
        "id": "vO9vKHixNKkl"
      },
      "execution_count": 70,
      "outputs": []
    },
    {
      "cell_type": "code",
      "source": [
        "class Postre(ProductoBase):\n",
        "    def __init__(self, nombre, precio, vegano, sin_gluten):\n",
        "        super().__init__(nombre, precio)\n",
        "        self.vegano = vegano\n",
        "        self.sin_gluten = sin_gluten\n",
        "\n",
        "    def descripcion_postre(self):\n",
        "        print(f\"Postre:{self.nombre}, precio:{self.precio}, vegano?:{self.vegano}, sin gluten?:{self.sin_gluten}\")"
      ],
      "metadata": {
        "id": "vnDQUbqONVj0"
      },
      "execution_count": 71,
      "outputs": []
    },
    {
      "cell_type": "code",
      "source": [
        "class Inventario:\n",
        "    def __init__(self, ingredientes):\n",
        "        self.ingredientes = []\n",
        "\n",
        "    def actualizar_stock(self, ingrediente, cantidad):\n",
        "        self.ingredientes[ingrediente] = cantidad\n",
        "\n",
        "    def verificar_disponibilidad(self, ingrediente, cantidad):\n",
        "        if ingrediente == 0:\n",
        "           return(f\"No disponible\")\n",
        "        else:\n",
        "           return(f\"Disponible\")"
      ],
      "metadata": {
        "id": "15AWfF9cOl34"
      },
      "execution_count": 72,
      "outputs": []
    },
    {
      "cell_type": "code",
      "source": [
        "class Pedido(Persona):\n",
        "    def __init__(self, cliente, productos, precio):\n",
        "        self.cliente = cliente\n",
        "        self.productos = productos\n",
        "        self.precio = precio\n",
        "        self.estado = \"En preparacion\"\n",
        "        self.total = sum(p.precio for p in productos)\n",
        "\n",
        "    def resumen(self):\n",
        "      return f\"{self.estado}, {self.precio}\"\n"
      ],
      "metadata": {
        "id": "ceZi0KbOQKwn"
      },
      "execution_count": 73,
      "outputs": []
    },
    {
      "cell_type": "code",
      "source": [
        "class Promocion:\n",
        "    def __init__(self, descripcion, descuento):\n",
        "        self.descripcion = descripcion\n",
        "        self.descuento = descuento"
      ],
      "metadata": {
        "id": "kMpX4X0rRjoe"
      },
      "execution_count": 74,
      "outputs": []
    },
    {
      "cell_type": "code",
      "source": [
        "cliente1 = Persona(\"Paola\", \"paaao@gmail.com\")\n",
        "bebida1 = Bebida(\"Café Latte\", 45, \"Grande\", \"Frio\", [\"Leche de almendra\", \"Sin azúcar\"])\n",
        "postre1 = Postre(\"Brownie\", 25, \"No\", \"Si\")\n",
        "\n",
        "cliente1.cliente()\n",
        "bebida1.descripcion_bebida()\n",
        "postre1.descripcion_postre()"
      ],
      "metadata": {
        "colab": {
          "base_uri": "https://localhost:8080/"
        },
        "id": "qBKlCz8lRoj5",
        "outputId": "ff652395-0df9-48a3-c739-1a681cc87cad"
      },
      "execution_count": 75,
      "outputs": [
        {
          "output_type": "stream",
          "name": "stdout",
          "text": [
            "El cliente Paola ha sido registrado con el correo paaao@gmail.com\n",
            "Orden: Café Latte, con un precio de 45, tamaño:Grande, tipo:Frio, opciones adicionales:['Leche de almendra', 'Sin azúcar']\n",
            "Postre:Brownie, precio:25, vegano?:No, sin gluten?:Si\n"
          ]
        }
      ]
    }
  ]
}