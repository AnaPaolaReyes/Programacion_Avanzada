{
  "nbformat": 4,
  "nbformat_minor": 0,
  "metadata": {
    "colab": {
      "provenance": [],
      "authorship_tag": "ABX9TyPFfvdrZclVjicFyHLGM1lG",
      "include_colab_link": true
    },
    "kernelspec": {
      "name": "python3",
      "display_name": "Python 3"
    },
    "language_info": {
      "name": "python"
    }
  },
  "cells": [
    {
      "cell_type": "markdown",
      "metadata": {
        "id": "view-in-github",
        "colab_type": "text"
      },
      "source": [
        "<a href=\"https://colab.research.google.com/github/AnaPaolaReyes/Programacion_Avanzada/blob/main/Cine.ipynb\" target=\"_parent\"><img src=\"https://colab.research.google.com/assets/colab-badge.svg\" alt=\"Open In Colab\"/></a>"
      ]
    },
    {
      "cell_type": "code",
      "execution_count": 18,
      "metadata": {
        "id": "kFm0n-UZgBjk"
      },
      "outputs": [],
      "source": [
        "class Persona:\n",
        "    lista=[]\n",
        "\n",
        "    def __init__(self,nombre,correo):\n",
        "        self.nombre=nombre\n",
        "        self.correo=correo\n",
        "\n",
        "    def registrar(self):\n",
        "        Persona.lista.append(self)\n",
        "        print(f\"El usuario {self.nombre} ha sido registrado con el correo {self.correo}\")\n",
        "\n",
        "    def actualizar_datos(self,nombre,correo):\n",
        "        self.nombre=nombre\n",
        "        self.correo=correo\n",
        "        print(f\"Los datos han sido actualizados\")\n",
        "\n",
        "    @classmethod\n",
        "    def personas_registradas(cls):\n",
        "        print(\"Personas registradas\")\n",
        "        for Persona in cls.lista:\n",
        "            print(f\"-{Persona.nombre} - {Persona.correo}\")\n"
      ]
    },
    {
      "cell_type": "code",
      "source": [
        "class Usuario(Persona):\n",
        "    def __init__(self, nombre, correo):\n",
        "        super().__init__(nombre, correo)\n",
        "        self.historial_reservas = []\n",
        "\n",
        "    def reservar(self, funcion, asientos):\n",
        "        if asientos <= funcion.asientos_disponibles:\n",
        "            funcion.asientos_disponibles -= asientos\n",
        "            self.historial_reservas.append({\"funcion\": funcion, \"asientos\": asientos})\n",
        "            print(f\"Reserva realizada para '{funcion.pelicula.titulo}' en la sala {funcion.sala.identificador}.\")\n",
        "        else:\n",
        "            print(\"No hay suficientes asientos disponibles.\")\n",
        "\n",
        "    def cancelar_reserva(self, funcion):\n",
        "        reserva = next((r for r in self.historial_reservas if r[\"funcion\"] == funcion), None)\n",
        "        if reserva:\n",
        "            funcion.asientos_disponibles += reserva[\"asientos\"]\n",
        "            self.historial_reservas.remove(reserva)\n",
        "            print(f\"Reserva cancelada para '{funcion.pelicula.titulo}'.\")\n",
        "        else:\n",
        "            print(\"No tienes una reserva para esta función.\")"
      ],
      "metadata": {
        "id": "rGDaYa0coJDa"
      },
      "execution_count": 19,
      "outputs": []
    },
    {
      "cell_type": "code",
      "source": [
        "class Empleado(Persona):\n",
        "    def __init__(self, nombre, correo, rol):\n",
        "        super().__init__(nombre, correo)\n",
        "        self.rol = rol\n",
        "\n",
        "    def agregar_funcion(self, funcion):\n",
        "        print(f\"Función agregada: {funcion.pelicula.titulo} a las {funcion.hora} en la sala {funcion.sala.identificador}.\")\n",
        "\n",
        "    def modificar_promocion(self, promocion, nuevo_descuento, nuevas_condiciones):\n",
        "        promocion.descuento = nuevo_descuento\n",
        "        promocion.condiciones = nuevas_condiciones\n",
        "        print(f\"Promoción modificada: {nuevo_descuento}% de descuento. {nuevas_condiciones}.\")"
      ],
      "metadata": {
        "id": "HNGRvMefobUd"
      },
      "execution_count": 20,
      "outputs": []
    },
    {
      "cell_type": "code",
      "source": [
        "class Espacio:\n",
        "    def __init__(self,capacidad,identificador):\n",
        "        self.capacidad=capacidad\n",
        "        self.identificador=identificador\n",
        "\n",
        "    def descripcion(self):\n",
        "        print(f\"El edificio tiene tamaño {self.capacidad} y tiene id {self.identificador}\")"
      ],
      "metadata": {
        "id": "QG0wuqtNoecA"
      },
      "execution_count": 21,
      "outputs": []
    },
    {
      "cell_type": "code",
      "source": [
        "class Sala(Espacio):\n",
        "    def __init__(self,capacidad,identificador,tipo):\n",
        "        super().__init__(capacidad,identificador)\n",
        "        self.tipo=tipo\n",
        "        self.disponibilidad=True\n",
        "\n",
        "    def Consultardisponibilidad(self):\n",
        "        if self.disponibilidad:\n",
        "            print(\"La sala esta disponible\")\n",
        "        else:\n",
        "            print(\"La sala esta ocupada\")"
      ],
      "metadata": {
        "id": "c7VOvRA-okOb"
      },
      "execution_count": 22,
      "outputs": []
    },
    {
      "cell_type": "code",
      "source": [
        "class Pelicula:\n",
        "    def __init__(self, titulo, genero, duracion):\n",
        "        self.titulo = titulo\n",
        "        self.genero = genero\n",
        "        self.duracion = duracion"
      ],
      "metadata": {
        "id": "L1JWSFy1oozI"
      },
      "execution_count": 23,
      "outputs": []
    },
    {
      "cell_type": "code",
      "source": [
        "class Funcion:\n",
        "    def __init__(self, pelicula, sala, hora, asientos_disponibles=None):\n",
        "        self.pelicula = pelicula\n",
        "        self.sala = sala\n",
        "        self.hora = hora\n",
        "        self.asientos_disponibles = asientos_disponibles or sala.capacidad"
      ],
      "metadata": {
        "id": "5jWbsM4josJj"
      },
      "execution_count": 24,
      "outputs": []
    },
    {
      "cell_type": "code",
      "source": [
        "class Promocion:\n",
        "    def __init__(self, descuento, condiciones):\n",
        "        self.descuento = descuento\n",
        "        self.condiciones = condiciones\n",
        "\n",
        "    def mostrar(self):\n",
        "        print(f\"Promoción: {self.descuento}% de descuento. Condiciones: {self.condiciones}\")"
      ],
      "metadata": {
        "id": "iRSOC14wovKm"
      },
      "execution_count": 25,
      "outputs": []
    },
    {
      "cell_type": "code",
      "source": [
        "pelicula1 = Pelicula(\"La naranja Mecanica\", \"Ciencia Ficción\", 136)\n",
        "pelicula2 = Pelicula(\"Turbo\", \"Infantil/Comedia\", 96)\n",
        "\n",
        "sala1 = Sala(50,\"Sala 1\",\"Tradicional\")\n",
        "sala2 = Sala(50,\"Sala 2\",\"Tradicional\")\n",
        "\n",
        "funcion1 = Funcion(pelicula1, sala1, \"18:00\")\n",
        "funcion2 = Funcion(pelicula2, sala2, \"20:00\")\n",
        "\n",
        "usuario1 = Usuario(\"Ana Reyes\", \"ana@email.com\")\n",
        "empleado1 = Empleado(\"Paola Jimenez\", \"paola@email.com\", \"Gerente\")\n",
        "\n",
        "usuario1.registrar()\n",
        "empleado1.registrar()\n",
        "\n",
        "usuario1.reservar(funcion1, 3)\n",
        "\n",
        "usuario1.cancelar_reserva(funcion1)\n",
        "\n",
        "promocion1 = Promocion(30, \"Aplica solo en palomitas los dias lunes, miercoles y viernes\")\n",
        "promocion1.mostrar()\n",
        "empleado1.modificar_promocion(promocion1, 30, \"Válido todos los días antes de las 4 PM.\")\n",
        "\n",
        "Persona.personas_registradas()"
      ],
      "metadata": {
        "colab": {
          "base_uri": "https://localhost:8080/"
        },
        "id": "sRdG_Bvjozr3",
        "outputId": "6050b81c-5931-4264-de70-8e16fdd8a176"
      },
      "execution_count": 26,
      "outputs": [
        {
          "output_type": "stream",
          "name": "stdout",
          "text": [
            "El usuario Ana Reyes ha sido registrado con el correo ana@email.com\n",
            "El usuario Paola Jimenez ha sido registrado con el correo paola@email.com\n",
            "Reserva realizada para 'La naranja Mecanica' en la sala Sala 1.\n",
            "Reserva cancelada para 'La naranja Mecanica'.\n",
            "Promoción: 30% de descuento. Condiciones: Aplica solo en palomitas los dias lunes, miercoles y viernes\n",
            "Promoción modificada: 30% de descuento. Válido todos los días antes de las 4 PM..\n",
            "Personas registradas\n",
            "-Ana Reyes - ana@email.com\n",
            "-Paola Jimenez - paola@email.com\n"
          ]
        }
      ]
    }
  ]
}