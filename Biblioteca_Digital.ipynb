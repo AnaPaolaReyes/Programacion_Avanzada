{
  "nbformat": 4,
  "nbformat_minor": 0,
  "metadata": {
    "colab": {
      "provenance": [],
      "authorship_tag": "ABX9TyPsRpcewmJCOtPSuWqEVa5Z",
      "include_colab_link": true
    },
    "kernelspec": {
      "name": "python3",
      "display_name": "Python 3"
    },
    "language_info": {
      "name": "python"
    }
  },
  "cells": [
    {
      "cell_type": "markdown",
      "metadata": {
        "id": "view-in-github",
        "colab_type": "text"
      },
      "source": [
        "<a href=\"https://colab.research.google.com/github/AnaPaolaReyes/Programacion_Avanzada/blob/main/Biblioteca_Digital.ipynb\" target=\"_parent\"><img src=\"https://colab.research.google.com/assets/colab-badge.svg\" alt=\"Open In Colab\"/></a>"
      ]
    },
    {
      "cell_type": "code",
      "source": [
        "class Material:\n",
        "    def __init__(self, titulo, estado):\n",
        "        self.titulo = titulo\n",
        "        self.estado = estado"
      ],
      "metadata": {
        "id": "P85N2XTJmWtl"
      },
      "execution_count": 44,
      "outputs": []
    },
    {
      "cell_type": "code",
      "source": [
        "class Libro(Material):\n",
        "    def __init__(self, titulo, autor, genero, estado):\n",
        "        super().__init__(titulo, estado)\n",
        "        self.autor = autor\n",
        "        self.genero = genero\n",
        "\n",
        "    def caracteristicas(self):\n",
        "        print(f\"Titulo:{self.titulo}, Autor:{self.autor}, Genero:{self.genero}, Estado:{self.estado}\")"
      ],
      "metadata": {
        "id": "3yMxGYK_m5bG"
      },
      "execution_count": 45,
      "outputs": []
    },
    {
      "cell_type": "code",
      "source": [
        "class Revista(Material):\n",
        "    def __init__(self, titulo, edicion, periodicidad, estado):\n",
        "        super().__init__(titulo, estado)\n",
        "        self.edicion = edicion\n",
        "        self.periodicidad = periodicidad\n",
        "\n",
        "    def revista(self):\n",
        "        print(f\"Titulo:{self.titulo}, Edicion:{self.edicion}, Periodicidad:{self.periodicidad}, Estado:{self.estado}\")\n",
        ""
      ],
      "metadata": {
        "id": "w-PvRp46m7-J"
      },
      "execution_count": 46,
      "outputs": []
    },
    {
      "cell_type": "code",
      "source": [
        "class MaterialDigital(Material):\n",
        "    def __init__(self, titulo, tipo_archivo, enlace_descarga, estado):\n",
        "        super().__init__(titulo, estado)\n",
        "        self.tipo_archivo = tipo_archivo\n",
        "        self.enlace_descarga = enlace_descarga\n",
        "\n",
        "    def material_digital(self):\n",
        "        print(f\"Titulo:{self.titulo}, Tipo de archivo:{self.tipo_archivo}, Enlace de descarga:{self.enlace_descarga}, Estado:{self.estado}\")"
      ],
      "metadata": {
        "id": "FC0NxoGpm-to"
      },
      "execution_count": 47,
      "outputs": []
    },
    {
      "cell_type": "code",
      "source": [
        "class Persona:\n",
        "    def __init__(self, nombre, email):\n",
        "        self.nombre = nombre\n",
        "        self.email = email\n",
        "\n",
        "    def informacion(self):\n",
        "        print(f\"Nombre:{self.nombre}, Email:{self.email}\")"
      ],
      "metadata": {
        "id": "HmGkmcoOnDX_"
      },
      "execution_count": 48,
      "outputs": []
    },
    {
      "cell_type": "code",
      "source": [
        "class Usuario(Persona):\n",
        "    def __init__(self, nombre, email):\n",
        "        super().__init__(nombre, email)\n",
        "        self.prestamos = []\n",
        "\n",
        "    def tomar_prestado(self, prestamo):\n",
        "        self.prestamos.append(prestamo)"
      ],
      "metadata": {
        "id": "oN_bopAPnF1E"
      },
      "execution_count": 49,
      "outputs": []
    },
    {
      "cell_type": "code",
      "source": [
        "class Bibliotecario(Persona):\n",
        "    def __init__(self, nombre, email):\n",
        "        super().__init__(nombre, email)\n"
      ],
      "metadata": {
        "id": "0NVSzsXpnMTN"
      },
      "execution_count": 50,
      "outputs": []
    },
    {
      "cell_type": "code",
      "source": [
        "class Sucursal:\n",
        "    def __init__(self, nombre):\n",
        "        self.nombre = nombre\n",
        "        self.catalogo = []\n",
        "\n",
        "    def agregar_material(self, material):\n",
        "        self.catalogo.append(material)\n",
        "        print(f\"Material agregado:{self.catalogo}\")\n",
        "\n"
      ],
      "metadata": {
        "id": "ODuM06yhnPZ2"
      },
      "execution_count": 61,
      "outputs": []
    },
    {
      "cell_type": "code",
      "source": [
        "class Prestamo:\n",
        "    def __init__(self, usuario, material, fecha_prestamo, fecha_devolucion):\n",
        "        self.nombre = usuario\n",
        "        self.titulo = material\n",
        "        self.fecha_prestamo = fecha_prestamo\n",
        "        self.fecha_devolucion = fecha_devolucion\n",
        "\n",
        "    def resumen(self):\n",
        "        print(f\"Usuario:{self.nombre}, Material:{self.titulo}, Fecha de prestamo:{self.fecha_prestamo}, Fecha esperada de devolucion:{self.fecha_devolucion}\")"
      ],
      "metadata": {
        "id": "I6-hbHqtnUyv"
      },
      "execution_count": 57,
      "outputs": []
    },
    {
      "cell_type": "code",
      "source": [
        "usuario1 = Persona(\"Paola\", \"paolaaa@gmail.com\")\n",
        "libro1 = Libro(\"Pequeño Hombre\", \"Emilio Rojas\", \"Alegoria\", \"Disponible\")\n",
        "prestamo1 = Prestamo(\"Paola\", \"Pequeño hombre\", \"22-01-2025\", \"22-02-2025\")\n",
        "\n",
        "usuario1.informacion()\n",
        "libro1.caracteristicas()\n",
        "prestamo1.resumen()\n"
      ],
      "metadata": {
        "colab": {
          "base_uri": "https://localhost:8080/"
        },
        "id": "I3lNlZ6enh1x",
        "outputId": "a983a006-c43a-4284-e19f-5867871e92d2"
      },
      "execution_count": 65,
      "outputs": [
        {
          "output_type": "stream",
          "name": "stdout",
          "text": [
            "Nombre:Paola, Email:paolaaa@gmail.com\n",
            "Titulo:Pequeño Hombre, Autor:Emilio Rojas, Genero:Alegoria, Estado:Disponible\n",
            "Usuario:Paola, Material:Pequeño hombre, Fecha de prestamo:22-01-2025, Fecha esperada de devolucion:22-02-2025\n"
          ]
        }
      ]
    }
  ]
}